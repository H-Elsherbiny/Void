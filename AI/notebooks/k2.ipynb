{
  "nbformat": 4,
  "nbformat_minor": 0,
  "metadata": {
    "colab": {
      "provenance": []
    },
    "kernelspec": {
      "name": "python3",
      "display_name": "Python 3"
    },
    "language_info": {
      "name": "python"
    }
  },
  "cells": [
    {
      "cell_type": "code",
      "execution_count": null,
      "metadata": {
        "id": "fErJl1KwsluY"
      },
      "outputs": [],
      "source": [
        "import pandas as pd\n",
        "import numpy as np\n",
        "import matplotlib.pyplot as plt\n",
        "import seaborn as sns\n",
        "import warnings\n",
        "warnings.filterwarnings('ignore')"
      ]
    },
    {
      "cell_type": "code",
      "source": [
        "k=pd.read_excel('/content/K2.xlsx')"
      ],
      "metadata": {
        "id": "a9vH4tWrs_jO"
      },
      "execution_count": null,
      "outputs": []
    },
    {
      "cell_type": "code",
      "source": [
        "k.info()"
      ],
      "metadata": {
        "colab": {
          "base_uri": "https://localhost:8080/"
        },
        "id": "xZPVxcdIs_mj",
        "outputId": "666eedb9-9479-4fba-9b36-fccb9f914363"
      },
      "execution_count": null,
      "outputs": [
        {
          "output_type": "stream",
          "name": "stdout",
          "text": [
            "<class 'pandas.core.frame.DataFrame'>\n",
            "RangeIndex: 4004 entries, 0 to 4003\n",
            "Columns: 129 entries, rowid to pl_ndispec\n",
            "dtypes: datetime64[ns](2), float64(70), int64(26), object(31)\n",
            "memory usage: 3.9+ MB\n"
          ]
        }
      ]
    },
    {
      "cell_type": "code",
      "source": [
        "k.columns"
      ],
      "metadata": {
        "colab": {
          "base_uri": "https://localhost:8080/"
        },
        "id": "e3UYBi1ds_pA",
        "outputId": "3adfcc8d-42b8-42b1-f7ca-53b1e22bae4d"
      },
      "execution_count": null,
      "outputs": [
        {
          "output_type": "execute_result",
          "data": {
            "text/plain": [
              "Index(['rowid', 'pl_name', 'hostname', 'pl_letter', 'k2_name', 'epic_hostname',\n",
              "       'epic_candname', 'hd_name', 'hip_name', 'tic_id',\n",
              "       ...\n",
              "       'releasedate', 'pl_nnotes', 'k2_campaigns', 'k2_campaigns_num',\n",
              "       'st_nphot', 'st_nrvc', 'st_nspec', 'pl_nespec', 'pl_ntranspec',\n",
              "       'pl_ndispec'],\n",
              "      dtype='object', length=129)"
            ]
          },
          "metadata": {},
          "execution_count": 7
        }
      ]
    },
    {
      "cell_type": "code",
      "source": [
        "k=k.drop(columns=['rowid','pl_name','hostname','pl_letter','k2_name','epic_hostname','epic_candname','hd_name','hip_name','tic_id','gaia_id'])"
      ],
      "metadata": {
        "id": "eSktYiXxs_rs"
      },
      "execution_count": null,
      "outputs": []
    },
    {
      "cell_type": "code",
      "source": [
        "k.columns"
      ],
      "metadata": {
        "colab": {
          "base_uri": "https://localhost:8080/"
        },
        "id": "F6g8IsqRs_tn",
        "outputId": "0bf80586-17dd-49f8-ca8c-baae175a9b51"
      },
      "execution_count": null,
      "outputs": [
        {
          "output_type": "execute_result",
          "data": {
            "text/plain": [
              "Index(['default_flag', 'disposition', 'disp_refname', 'sy_snum', 'sy_pnum',\n",
              "       'sy_mnum', 'cb_flag', 'discoverymethod', 'disc_year', 'disc_refname',\n",
              "       ...\n",
              "       'releasedate', 'pl_nnotes', 'k2_campaigns', 'k2_campaigns_num',\n",
              "       'st_nphot', 'st_nrvc', 'st_nspec', 'pl_nespec', 'pl_ntranspec',\n",
              "       'pl_ndispec'],\n",
              "      dtype='object', length=118)"
            ]
          },
          "metadata": {},
          "execution_count": 9
        }
      ]
    },
    {
      "cell_type": "code",
      "source": [
        "nu = k.isna().sum()\n",
        "\n",
        "for column_name, null_count in nu.items():\n",
        "  if null_count > 0:\n",
        "    print(f\"Column '{column_name}' has {null_count} null values.\")"
      ],
      "metadata": {
        "colab": {
          "base_uri": "https://localhost:8080/"
        },
        "id": "ENbv0nSzs_wi",
        "outputId": "e0ff2c2a-279e-4194-e37d-3dd11b012944"
      },
      "execution_count": null,
      "outputs": [
        {
          "output_type": "stream",
          "name": "stdout",
          "text": [
            "Column 'pl_orbper' has 44 null values.\n",
            "Column 'pl_orbsmax' has 3184 null values.\n",
            "Column 'pl_rade' has 831 null values.\n",
            "Column 'pl_radj' has 831 null values.\n",
            "Column 'pl_masse' has 3589 null values.\n",
            "Column 'pl_massj' has 3589 null values.\n",
            "Column 'pl_msinie' has 3973 null values.\n",
            "Column 'pl_msinij' has 3973 null values.\n",
            "Column 'pl_cmasse' has 3989 null values.\n",
            "Column 'pl_cmassj' has 3989 null values.\n",
            "Column 'pl_bmasse' has 3569 null values.\n",
            "Column 'pl_bmassj' has 3569 null values.\n",
            "Column 'pl_bmassprov' has 3569 null values.\n",
            "Column 'pl_dens' has 3645 null values.\n",
            "Column 'pl_orbeccen' has 3575 null values.\n",
            "Column 'pl_insol' has 3374 null values.\n",
            "Column 'pl_eqt' has 3150 null values.\n",
            "Column 'pl_orbincl' has 3007 null values.\n",
            "Column 'pl_tranmid' has 65 null values.\n",
            "Column 'pl_tsystemref' has 228 null values.\n",
            "Column 'pl_imppar' has 2515 null values.\n",
            "Column 'pl_trandep' has 1905 null values.\n",
            "Column 'pl_trandur' has 1221 null values.\n",
            "Column 'pl_ratdor' has 1807 null values.\n",
            "Column 'pl_ratror' has 990 null values.\n",
            "Column 'pl_occdep' has 4003 null values.\n",
            "Column 'pl_orbtper' has 3973 null values.\n",
            "Column 'pl_orblper' has 3758 null values.\n",
            "Column 'pl_rvamp' has 3702 null values.\n",
            "Column 'pl_projobliq' has 3973 null values.\n",
            "Column 'pl_trueobliq' has 3993 null values.\n",
            "Column 'st_refname' has 16 null values.\n",
            "Column 'st_spectype' has 3567 null values.\n",
            "Column 'st_teff' has 1112 null values.\n",
            "Column 'st_rad' has 130 null values.\n",
            "Column 'st_mass' has 1902 null values.\n",
            "Column 'st_met' has 2306 null values.\n",
            "Column 'st_metratio' has 2309 null values.\n",
            "Column 'st_lum' has 3231 null values.\n",
            "Column 'st_logg' has 1648 null values.\n",
            "Column 'st_age' has 3687 null values.\n",
            "Column 'st_dens' has 3063 null values.\n",
            "Column 'st_vsin' has 3612 null values.\n",
            "Column 'st_rotp' has 3832 null values.\n",
            "Column 'st_radv' has 3825 null values.\n",
            "Column 'sy_pm' has 41 null values.\n",
            "Column 'sy_pmra' has 41 null values.\n",
            "Column 'sy_pmdec' has 41 null values.\n",
            "Column 'sy_dist' has 125 null values.\n",
            "Column 'sy_plx' has 247 null values.\n",
            "Column 'sy_bmag' has 137 null values.\n",
            "Column 'sy_vmag' has 42 null values.\n",
            "Column 'sy_jmag' has 23 null values.\n",
            "Column 'sy_hmag' has 23 null values.\n",
            "Column 'sy_kmag' has 23 null values.\n",
            "Column 'sy_umag' has 2203 null values.\n",
            "Column 'sy_gmag' has 2203 null values.\n",
            "Column 'sy_rmag' has 2203 null values.\n",
            "Column 'sy_imag' has 2203 null values.\n",
            "Column 'sy_zmag' has 2203 null values.\n",
            "Column 'sy_w1mag' has 135 null values.\n",
            "Column 'sy_w2mag' has 135 null values.\n",
            "Column 'sy_w3mag' has 137 null values.\n",
            "Column 'sy_w4mag' has 138 null values.\n",
            "Column 'sy_gaiamag' has 56 null values.\n",
            "Column 'sy_icmag' has 4004 null values.\n",
            "Column 'sy_tmag' has 4 null values.\n",
            "Column 'sy_kepmag' has 15 null values.\n",
            "Column 'k2_campaigns' has 7 null values.\n",
            "Column 'k2_campaigns_num' has 4 null values.\n"
          ]
        }
      ]
    },
    {
      "cell_type": "code",
      "source": [
        "cols_with_many_nulls = [\n",
        "    'pl_masse','pl_massj','pl_msinie','pl_msinij','pl_cmasse','pl_cmassj','pl_bmasse','pl_bmassj',\n",
        "    'pl_bmassprov','pl_dens','pl_orbeccen','pl_insol','pl_eqt','pl_orbincl','pl_imppar','pl_trandep',\n",
        "    'pl_trandur','pl_ratdor','pl_occdep','pl_orbtper','pl_orblper','pl_rvamp','pl_projobliq','pl_trueobliq',\n",
        "    'st_spectype','st_teff','st_mass','st_met','st_metratio','st_lum','st_logg','st_age','st_dens',\n",
        "    'st_vsin','st_rotp','st_radv','sy_umag','sy_gmag','sy_rmag','sy_imag','sy_zmag','sy_icmag'\n",
        "]\n",
        "\n",
        "df_cleaned = k.drop(columns=[c for c in cols_with_many_nulls if c in k.columns], errors='ignore')\n",
        "\n",
        "df_cleaned.shape, k.shape"
      ],
      "metadata": {
        "colab": {
          "base_uri": "https://localhost:8080/"
        },
        "id": "n_fm5WCEtACa",
        "outputId": "2b7bffda-5edd-43d5-e72f-4ea01b22e3ec"
      },
      "execution_count": null,
      "outputs": [
        {
          "output_type": "execute_result",
          "data": {
            "text/plain": [
              "((4004, 76), (4004, 118))"
            ]
          },
          "metadata": {},
          "execution_count": 64
        }
      ]
    },
    {
      "cell_type": "code",
      "source": [
        "df_cleaned.info()"
      ],
      "metadata": {
        "colab": {
          "base_uri": "https://localhost:8080/"
        },
        "id": "82ynqjFLznms",
        "outputId": "a3f5b6d6-8253-46b9-f643-e28660c863d6"
      },
      "execution_count": null,
      "outputs": [
        {
          "output_type": "stream",
          "name": "stdout",
          "text": [
            "<class 'pandas.core.frame.DataFrame'>\n",
            "RangeIndex: 4004 entries, 0 to 4003\n",
            "Data columns (total 76 columns):\n",
            " #   Column            Non-Null Count  Dtype         \n",
            "---  ------            --------------  -----         \n",
            " 0   default_flag      4004 non-null   int64         \n",
            " 1   disposition       4004 non-null   object        \n",
            " 2   disp_refname      4004 non-null   object        \n",
            " 3   sy_snum           4004 non-null   int64         \n",
            " 4   sy_pnum           4004 non-null   int64         \n",
            " 5   sy_mnum           4004 non-null   int64         \n",
            " 6   cb_flag           4004 non-null   int64         \n",
            " 7   discoverymethod   4004 non-null   object        \n",
            " 8   disc_year         4004 non-null   int64         \n",
            " 9   disc_refname      4004 non-null   object        \n",
            " 10  disc_pubdate      4004 non-null   object        \n",
            " 11  disc_locale       4004 non-null   object        \n",
            " 12  disc_facility     4004 non-null   object        \n",
            " 13  disc_telescope    4004 non-null   object        \n",
            " 14  disc_instrument   4004 non-null   object        \n",
            " 15  rv_flag           4004 non-null   int64         \n",
            " 16  pul_flag          4004 non-null   int64         \n",
            " 17  ptv_flag          4004 non-null   int64         \n",
            " 18  tran_flag         4004 non-null   int64         \n",
            " 19  ast_flag          4004 non-null   int64         \n",
            " 20  obm_flag          4004 non-null   int64         \n",
            " 21  micro_flag        4004 non-null   int64         \n",
            " 22  etv_flag          4004 non-null   int64         \n",
            " 23  ima_flag          4004 non-null   int64         \n",
            " 24  dkin_flag         4004 non-null   int64         \n",
            " 25  soltype           4004 non-null   object        \n",
            " 26  pl_controv_flag   4004 non-null   int64         \n",
            " 27  pl_refname        4004 non-null   object        \n",
            " 28  pl_orbper         3960 non-null   float64       \n",
            " 29  pl_orbsmax        820 non-null    float64       \n",
            " 30  pl_rade           3173 non-null   float64       \n",
            " 31  pl_radj           3173 non-null   float64       \n",
            " 32  pl_tranmid        3939 non-null   float64       \n",
            " 33  pl_tsystemref     3776 non-null   object        \n",
            " 34  ttv_flag          4004 non-null   int64         \n",
            " 35  pl_ratror         3014 non-null   float64       \n",
            " 36  st_refname        3988 non-null   object        \n",
            " 37  st_rad            3874 non-null   float64       \n",
            " 38  sy_refname        4004 non-null   object        \n",
            " 39  rastr             4004 non-null   object        \n",
            " 40  ra                4004 non-null   float64       \n",
            " 41  decstr            4004 non-null   object        \n",
            " 42  dec               4004 non-null   float64       \n",
            " 43  glat              4004 non-null   float64       \n",
            " 44  glon              4004 non-null   float64       \n",
            " 45  elat              4004 non-null   float64       \n",
            " 46  elon              4004 non-null   float64       \n",
            " 47  sy_pm             3963 non-null   float64       \n",
            " 48  sy_pmra           3963 non-null   float64       \n",
            " 49  sy_pmdec          3963 non-null   float64       \n",
            " 50  sy_dist           3879 non-null   float64       \n",
            " 51  sy_plx            3757 non-null   float64       \n",
            " 52  sy_bmag           3867 non-null   float64       \n",
            " 53  sy_vmag           3962 non-null   float64       \n",
            " 54  sy_jmag           3981 non-null   float64       \n",
            " 55  sy_hmag           3981 non-null   float64       \n",
            " 56  sy_kmag           3981 non-null   float64       \n",
            " 57  sy_w1mag          3869 non-null   float64       \n",
            " 58  sy_w2mag          3869 non-null   float64       \n",
            " 59  sy_w3mag          3867 non-null   float64       \n",
            " 60  sy_w4mag          3866 non-null   float64       \n",
            " 61  sy_gaiamag        3948 non-null   float64       \n",
            " 62  sy_tmag           4000 non-null   float64       \n",
            " 63  sy_kepmag         3989 non-null   float64       \n",
            " 64  rowupdate         4004 non-null   datetime64[ns]\n",
            " 65  pl_pubdate        4004 non-null   object        \n",
            " 66  releasedate       4004 non-null   datetime64[ns]\n",
            " 67  pl_nnotes         4004 non-null   int64         \n",
            " 68  k2_campaigns      3997 non-null   object        \n",
            " 69  k2_campaigns_num  4000 non-null   float64       \n",
            " 70  st_nphot          4004 non-null   int64         \n",
            " 71  st_nrvc           4004 non-null   int64         \n",
            " 72  st_nspec          4004 non-null   int64         \n",
            " 73  pl_nespec         4004 non-null   int64         \n",
            " 74  pl_ntranspec      4004 non-null   int64         \n",
            " 75  pl_ndispec        4004 non-null   int64         \n",
            "dtypes: datetime64[ns](2), float64(31), int64(25), object(18)\n",
            "memory usage: 2.3+ MB\n"
          ]
        }
      ]
    },
    {
      "cell_type": "code",
      "source": [
        "df_cleaned.drop(columns=[\"pl_orbsmax\"],inplace=True)"
      ],
      "metadata": {
        "id": "5EvpIvMx0kxz"
      },
      "execution_count": null,
      "outputs": []
    },
    {
      "cell_type": "code",
      "source": [
        "print(df_cleaned.select_dtypes(include=[\"object\"]))"
      ],
      "metadata": {
        "colab": {
          "base_uri": "https://localhost:8080/"
        },
        "id": "rOto7wXJzuDu",
        "outputId": "f7275e21-a099-40b9-e8ed-a8b87cf57b6e"
      },
      "execution_count": null,
      "outputs": [
        {
          "output_type": "stream",
          "name": "stdout",
          "text": [
            "     disposition              disp_refname discoverymethod  \\\n",
            "0      CONFIRMED      Espinoza et al. 2016         Transit   \n",
            "1      CONFIRMED      Espinoza et al. 2016         Transit   \n",
            "2      CONFIRMED      Espinoza et al. 2016         Transit   \n",
            "3      CANDIDATE    Livingston et al. 2018         Transit   \n",
            "4      CANDIDATE    Livingston et al. 2018         Transit   \n",
            "...          ...                       ...             ...   \n",
            "3999   CONFIRMED  Mo&#x10D;nik et al. 2016         Transit   \n",
            "4000   CONFIRMED      Peterson et al. 2018         Transit   \n",
            "4001   CONFIRMED      Peterson et al. 2018         Transit   \n",
            "4002   CONFIRMED      Peterson et al. 2018         Transit   \n",
            "4003   CONFIRMED      Peterson et al. 2018         Transit   \n",
            "\n",
            "                                           disc_refname disc_pubdate  \\\n",
            "0     <a refstr=ESPINOZA_ET_AL__2016 href=https://ui...      2016-10   \n",
            "1     <a refstr=ESPINOZA_ET_AL__2016 href=https://ui...      2016-10   \n",
            "2     <a refstr=ESPINOZA_ET_AL__2016 href=https://ui...      2016-10   \n",
            "3     <a refstr=MAYO_ET_AL__2018 href=https://ui.ads...      2018-03   \n",
            "4     <a refstr=MAYO_ET_AL__2018 href=https://ui.ads...      2018-03   \n",
            "...                                                 ...          ...   \n",
            "3999  <a refstr=MO__X10D_NIK_ET_AL__2016 href=https:...      2016-06   \n",
            "4000  <a refstr=PETERSON_ET_AL__2018 href=https://ui...      2018-11   \n",
            "4001  <a refstr=PETERSON_ET_AL__2018 href=https://ui...      2018-11   \n",
            "4002  <a refstr=PETERSON_ET_AL__2018 href=https://ui...      2018-11   \n",
            "4003  <a refstr=PETERSON_ET_AL__2018 href=https://ui...      2018-11   \n",
            "\n",
            "     disc_locale disc_facility           disc_telescope   disc_instrument  \\\n",
            "0          Space            K2  0.95 m Kepler Telescope  Kepler CCD Array   \n",
            "1          Space            K2  0.95 m Kepler Telescope  Kepler CCD Array   \n",
            "2          Space            K2  0.95 m Kepler Telescope  Kepler CCD Array   \n",
            "3          Space            K2  0.95 m Kepler Telescope  Kepler CCD Array   \n",
            "4          Space            K2  0.95 m Kepler Telescope  Kepler CCD Array   \n",
            "...          ...           ...                      ...               ...   \n",
            "3999       Space            K2  0.95 m Kepler Telescope  Kepler CCD Array   \n",
            "4000       Space            K2  0.95 m Kepler Telescope  Kepler CCD Array   \n",
            "4001       Space            K2  0.95 m Kepler Telescope  Kepler CCD Array   \n",
            "4002       Space            K2  0.95 m Kepler Telescope  Kepler CCD Array   \n",
            "4003       Space            K2  0.95 m Kepler Telescope  Kepler CCD Array   \n",
            "\n",
            "                     soltype  \\\n",
            "0        Published Confirmed   \n",
            "1        Published Confirmed   \n",
            "2        Published Confirmed   \n",
            "3        Published Candidate   \n",
            "4        Published Candidate   \n",
            "...                      ...   \n",
            "3999     Published Candidate   \n",
            "4000     Published Confirmed   \n",
            "4001     Published Confirmed   \n",
            "4002     Published Confirmed   \n",
            "4003  TESS Project Candidate   \n",
            "\n",
            "                                             pl_refname pl_tsystemref  \\\n",
            "0     <a refstr=MAYO_ET_AL__2018 href=https://ui.ads...           NaN   \n",
            "1     <a refstr=ESPINOZA_ET_AL__2016 href=https://ui...       BJD-TDB   \n",
            "2     <a refstr=STASSUN_ET_AL__2017 href=https://ui....           NaN   \n",
            "3     <a refstr=LIVINGSTON_ET_AL__2018 href=https://...           BJD   \n",
            "4     <a refstr=MAYO_ET_AL__2018 href=https://ui.ads...           BJD   \n",
            "...                                                 ...           ...   \n",
            "3999  <a refstr=KRUSE_ET_AL__2019 href=https://ui.ad...           BJD   \n",
            "4000  <a refstr=POLANSKI_ET_AL__2021 href=https://ui...       BJD-TDB   \n",
            "4001  <a refstr=PETERSON_ET_AL__2018 href=https://ui...       BJD-TDB   \n",
            "4002  <a refstr=BONOMO_ET_AL__2023 href=https://ui.a...       BJD-TDB   \n",
            "4003  <a refstr=EXOFOP_TESS_TOI href=https://exofop....           BJD   \n",
            "\n",
            "                                             st_refname  \\\n",
            "0     <a refstr=MAYO_ET_AL__2018 href=https://ui.ads...   \n",
            "1     <a refstr=ESPINOZA_ET_AL__2016 href=https://ui...   \n",
            "2     <a refstr=STASSUN_ET_AL__2017 href=https://ui....   \n",
            "3     <a refstr=STASSUN_ET_AL__2019 href=https://ui....   \n",
            "4     <a refstr=MAYO_ET_AL__2018 href=https://ui.ads...   \n",
            "...                                                 ...   \n",
            "3999  <a refstr=KRUSE_ET_AL__2019 href=https://ui.ad...   \n",
            "4000  <a refstr=POLANSKI_ET_AL__2021 href=https://ui...   \n",
            "4001  <a refstr=PETERSON_ET_AL__2018 href=https://ui...   \n",
            "4002  <a refstr=BONOMO_ET_AL__2023 href=https://ui.a...   \n",
            "4003  <a refstr=EXOFOP_TESS_TOI href=https://exofop....   \n",
            "\n",
            "                                             sy_refname         rastr  \\\n",
            "0     <a refstr=STASSUN_ET_AL__2019 href=https://ui....  03h34m36.27s   \n",
            "1     <a refstr=STASSUN_ET_AL__2019 href=https://ui....  03h34m36.27s   \n",
            "2     <a refstr=STASSUN_ET_AL__2019 href=https://ui....  03h34m36.27s   \n",
            "3     <a refstr=STASSUN_ET_AL__2019 href=https://ui....  12h15m23.10s   \n",
            "4     <a refstr=STASSUN_ET_AL__2019 href=https://ui....  12h15m23.10s   \n",
            "...                                                 ...           ...   \n",
            "3999  <a refstr=STASSUN_ET_AL__2019 href=https://ui....  11h43m37.93s   \n",
            "4000  <a refstr=STASSUN_ET_AL__2019 href=https://ui....  13h47m23.09s   \n",
            "4001  <a refstr=STASSUN_ET_AL__2019 href=https://ui....  13h47m23.09s   \n",
            "4002  <a refstr=STASSUN_ET_AL__2019 href=https://ui....  13h47m23.09s   \n",
            "4003  <a refstr=STASSUN_ET_AL__2019 href=https://ui....  13h47m23.09s   \n",
            "\n",
            "             decstr pl_pubdate k2_campaigns  \n",
            "0     +20d35m56.47s    2018-03            4  \n",
            "1     +20d35m56.47s    2016-10            4  \n",
            "2     +20d35m56.47s    2017-03            4  \n",
            "3     -06d16m05.98s    2018-08           10  \n",
            "4     -06d16m05.98s    2018-03           10  \n",
            "...             ...        ...          ...  \n",
            "3999  +06d33m49.62s    2019-09            1  \n",
            "4000  -06d08m21.61s    2021-12           17  \n",
            "4001  -06d08m21.61s    2018-11           17  \n",
            "4002  -06d08m21.61s    2023-04           17  \n",
            "4003  -06d08m21.61s    2017-07           17  \n",
            "\n",
            "[4004 rows x 18 columns]\n"
          ]
        }
      ]
    },
    {
      "cell_type": "code",
      "source": [
        "from sklearn.experimental import enable_iterative_imputer\n",
        "from sklearn.impute import IterativeImputer\n",
        "target_col='disposition'\n",
        "X = df_cleaned.drop(columns=[target_col])\n",
        "y = df_cleaned[target_col]\n",
        "X = X.select_dtypes(include=[\"int64\", \"float64\"])\n",
        "iter_imputer = IterativeImputer(random_state=42)\n",
        "X_imputed = pd.DataFrame(iter_imputer.fit_transform(X), columns=X.columns)"
      ],
      "metadata": {
        "id": "obB2cn9ytAGB"
      },
      "execution_count": null,
      "outputs": []
    },
    {
      "cell_type": "code",
      "source": [
        "X_imputed.shape"
      ],
      "metadata": {
        "colab": {
          "base_uri": "https://localhost:8080/"
        },
        "id": "pE2vZOOn09aM",
        "outputId": "9906e6be-56cd-49c5-cc5e-757054ae93c2"
      },
      "execution_count": null,
      "outputs": [
        {
          "output_type": "execute_result",
          "data": {
            "text/plain": [
              "(4004, 55)"
            ]
          },
          "metadata": {},
          "execution_count": 16
        }
      ]
    },
    {
      "cell_type": "code",
      "source": [
        "from sklearn.ensemble import RandomForestClassifier, GradientBoostingClassifier, VotingClassifier\n",
        "from sklearn.linear_model import LogisticRegression\n",
        "from sklearn.model_selection import train_test_split, cross_val_score\n",
        "from sklearn.preprocessing import StandardScaler, LabelEncoder\n",
        "from sklearn.pipeline import Pipeline\n",
        "\n",
        "le = LabelEncoder()\n",
        "y_encoded = le.fit_transform(y)\n",
        "\n",
        "X_train, X_test, y_train, y_test = train_test_split(\n",
        "    X_imputed, y_encoded, test_size=0.2, random_state=42, stratify=y_encoded\n",
        ")\n",
        "\n",
        "rf = RandomForestClassifier(n_estimators=300, random_state=42)\n",
        "gb = GradientBoostingClassifier(n_estimators=300, learning_rate=0.05, random_state=42)\n",
        "lr = LogisticRegression(max_iter=500, class_weight=\"balanced\")\n",
        "ensemble = VotingClassifier( estimators=[(\"rf\", rf), (\"gb\", gb), (\"lr\", lr)], voting=\"soft\" )\n",
        "\n",
        "pipeline = Pipeline([ (\"scaler\", StandardScaler()), (\"clf\", ensemble) ])\n",
        "scores = cross_val_score(pipeline, X_train, y_train, cv=5, scoring=\"accuracy\")\n",
        "print(\"Cross-validation accuracy:\", np.mean(scores))\n",
        "\n",
        "from sklearn.metrics import precision_score, recall_score, f1_score\n",
        "pipeline.fit(X_train, y_train)\n",
        "\n",
        "y_train_pred = pipeline.predict(X_train)\n",
        "y_test_pred = pipeline.predict(X_test)\n",
        "\n",
        "# Accuracy\n",
        "print(\"Train accuracy:\", pipeline.score(X_train, y_train))\n",
        "print(\"Test accuracy:\", pipeline.score(X_test, y_test))\n",
        "\n",
        "# Precision\n",
        "print(\"Train precision:\", precision_score(y_train, y_train_pred, average='weighted'))\n",
        "print(\"Test precision:\", precision_score(y_test, y_test_pred, average='weighted'))\n",
        "\n",
        "# Recall\n",
        "print(\"Train recall:\", recall_score(y_train, y_train_pred, average='weighted'))\n",
        "print(\"Test recall:\", recall_score(y_test, y_test_pred, average='weighted'))\n",
        "\n",
        "# Optional: F1-score\n",
        "print(\"Train F1-score:\", f1_score(y_train, y_train_pred, average='weighted'))\n",
        "print(\"Test F1-score:\", f1_score(y_test, y_test_pred, average='weighted'))\n"
      ],
      "metadata": {
        "colab": {
          "base_uri": "https://localhost:8080/"
        },
        "id": "sBPoTzwf09eg",
        "outputId": "58ae1dbf-3357-4635-b5a2-dcdd98df8ab2"
      },
      "execution_count": null,
      "outputs": [
        {
          "output_type": "stream",
          "name": "stdout",
          "text": [
            "Cross-validation accuracy: 0.9556669266770671\n",
            "Train accuracy: 0.9956290977208867\n",
            "Test accuracy: 0.9625468164794008\n",
            "Train precision: 0.9956208723508372\n",
            "Test precision: 0.9625533427959727\n",
            "Train recall: 0.9956290977208867\n",
            "Test recall: 0.9625468164794008\n",
            "Train F1-score: 0.9956178563114936\n",
            "Test F1-score: 0.9623934040189512\n"
          ]
        }
      ]
    },
    {
      "cell_type": "code",
      "source": [
        "import joblib\n",
        "joblib.dump(pipeline, \"exoplanet_K2_ensemble_model.pkl\")\n",
        "joblib.dump(le, \"label_K2_encoder.pkl\")\n",
        "print(\"✅ Model and encoder saved!\")"
      ],
      "metadata": {
        "colab": {
          "base_uri": "https://localhost:8080/"
        },
        "id": "vLWr6Op309jY",
        "outputId": "97c2a5da-d234-46e5-e2f3-ac943f64a828"
      },
      "execution_count": null,
      "outputs": [
        {
          "output_type": "stream",
          "name": "stdout",
          "text": [
            "✅ Model and encoder saved!\n"
          ]
        }
      ]
    },
    {
      "cell_type": "code",
      "source": [
        "df_cleaned['disposition'].value_counts()"
      ],
      "metadata": {
        "colab": {
          "base_uri": "https://localhost:8080/",
          "height": 178
        },
        "id": "LrHnd_S509ot",
        "outputId": "cccfcd4f-b610-430b-e2f8-4c9194617990"
      },
      "execution_count": null,
      "outputs": [
        {
          "output_type": "execute_result",
          "data": {
            "text/plain": [
              "disposition\n",
              "CONFIRMED         2315\n",
              "FALSE POSITIVE     293\n",
              "Name: count, dtype: int64"
            ],
            "text/html": [
              "<div>\n",
              "<style scoped>\n",
              "    .dataframe tbody tr th:only-of-type {\n",
              "        vertical-align: middle;\n",
              "    }\n",
              "\n",
              "    .dataframe tbody tr th {\n",
              "        vertical-align: top;\n",
              "    }\n",
              "\n",
              "    .dataframe thead th {\n",
              "        text-align: right;\n",
              "    }\n",
              "</style>\n",
              "<table border=\"1\" class=\"dataframe\">\n",
              "  <thead>\n",
              "    <tr style=\"text-align: right;\">\n",
              "      <th></th>\n",
              "      <th>count</th>\n",
              "    </tr>\n",
              "    <tr>\n",
              "      <th>disposition</th>\n",
              "      <th></th>\n",
              "    </tr>\n",
              "  </thead>\n",
              "  <tbody>\n",
              "    <tr>\n",
              "      <th>CONFIRMED</th>\n",
              "      <td>2315</td>\n",
              "    </tr>\n",
              "    <tr>\n",
              "      <th>FALSE POSITIVE</th>\n",
              "      <td>293</td>\n",
              "    </tr>\n",
              "  </tbody>\n",
              "</table>\n",
              "</div><br><label><b>dtype:</b> int64</label>"
            ]
          },
          "metadata": {},
          "execution_count": 68
        }
      ]
    },
    {
      "cell_type": "code",
      "source": [
        "mask = ((df_cleaned['disposition'] == 'CONFIRMED') | (df_cleaned['disposition'] == 'FALSE POSITIVE'))\n",
        "df_cleaned = df_cleaned[mask].copy()"
      ],
      "metadata": {
        "id": "IThdZVY53XWI"
      },
      "execution_count": null,
      "outputs": []
    },
    {
      "cell_type": "code",
      "source": [
        "df_cleaned.drop(columns=['disposition'],inplace=True)"
      ],
      "metadata": {
        "id": "qWNYKNGRclYz"
      },
      "execution_count": null,
      "outputs": []
    },
    {
      "cell_type": "code",
      "source": [
        "from sklearn.experimental import enable_iterative_imputer\n",
        "from sklearn.impute import IterativeImputer\n",
        "from sklearn.cluster import KMeans\n",
        "from sklearn.preprocessing import StandardScaler\n",
        "from sklearn.preprocessing import StandardScaler\n",
        "from sklearn.cluster import DBSCAN\n",
        "import pandas as pd\n",
        "\n",
        "df_features = df_cleaned\n",
        "df_features = df_features.select_dtypes(include=[\"int64\", \"float64\"])\n",
        "iter_imputer = IterativeImputer(random_state=42)\n",
        "X_imputed = pd.DataFrame(iter_imputer.fit_transform(df_features), columns=df_features.columns)\n",
        "scaler = StandardScaler()\n",
        "X_scaled = scaler.fit_transform(X_imputed)\n",
        "\n",
        "db = DBSCAN(eps=10, min_samples=10)\n",
        "df_cleaned['cluster'] = db.fit_predict(X_scaled)\n",
        "\n",
        "cluster_counts = df_cleaned['cluster'].value_counts()\n",
        "print(cluster_counts)\n",
        "\n"
      ],
      "metadata": {
        "colab": {
          "base_uri": "https://localhost:8080/"
        },
        "id": "rXZw4-tgc9Zf",
        "outputId": "17132b38-f41b-4d28-954a-24d4123112e1"
      },
      "execution_count": null,
      "outputs": [
        {
          "output_type": "stream",
          "name": "stdout",
          "text": [
            "cluster\n",
            " 0    2516\n",
            " 3      39\n",
            " 2      25\n",
            " 1      21\n",
            "-1       7\n",
            "Name: count, dtype: int64\n"
          ]
        }
      ]
    },
    {
      "cell_type": "code",
      "source": [
        "import matplotlib.pyplot as plt\n",
        "\n",
        "plt.scatter(df_cleaned.iloc[:, 0], df_cleaned.iloc[:, 1], c=df_cleaned['cluster'], cmap='viridis')\n",
        "plt.title('DBSCAN Clustering')\n",
        "plt.xlabel('Feature 1')\n",
        "plt.ylabel('Feature 2')\n",
        "plt.show()\n"
      ],
      "metadata": {
        "colab": {
          "base_uri": "https://localhost:8080/",
          "height": 472
        },
        "id": "i943PR3rc-SA",
        "outputId": "655e74c2-e0a8-4145-8e9f-cd1c5dbeee64"
      },
      "execution_count": null,
      "outputs": [
        {
          "output_type": "display_data",
          "data": {
            "text/plain": [
              "<Figure size 640x480 with 1 Axes>"
            ],
            "image/png": "[encoded data removed]"
          },
          "metadata": {}
        }
      ]
    },
    {
      "cell_type": "code",
      "source": [
        "from sklearn.experimental import enable_iterative_imputer\n",
        "from sklearn.impute import IterativeImputer\n",
        "target_col='disposition'\n",
        "X = df_filtered.drop(columns=[target_col])\n",
        "y = df_filtered[target_col]\n",
        "X = X.select_dtypes(include=[\"int64\", \"float64\"])\n",
        "iter_imputer = IterativeImputer(random_state=42)\n",
        "X_imputed = pd.DataFrame(iter_imputer.fit_transform(X), columns=X.columns)"
      ],
      "metadata": {
        "id": "B5HLsgu93Xb_"
      },
      "execution_count": null,
      "outputs": []
    },
    {
      "cell_type": "code",
      "source": [
        "from sklearn.ensemble import RandomForestClassifier, GradientBoostingClassifier, VotingClassifier\n",
        "from sklearn.linear_model import LogisticRegression\n",
        "from sklearn.model_selection import train_test_split, cross_val_score\n",
        "from sklearn.preprocessing import StandardScaler, LabelEncoder\n",
        "from sklearn.pipeline import Pipeline\n",
        "\n",
        "le = LabelEncoder()\n",
        "y_encoded = le.fit_transform(y)\n",
        "\n",
        "X_train, X_test, y_train, y_test = train_test_split(\n",
        "    X_imputed, y_encoded, test_size=0.2, random_state=42, stratify=y_encoded\n",
        ")\n",
        "\n",
        "rf = RandomForestClassifier(n_estimators=300, random_state=42)\n",
        "gb = GradientBoostingClassifier(n_estimators=300, learning_rate=0.05, random_state=42)\n",
        "lr = LogisticRegression(max_iter=500, class_weight=\"balanced\")\n",
        "ensemble = VotingClassifier( estimators=[(\"rf\", rf), (\"gb\", gb), (\"lr\", lr)], voting=\"soft\" )\n",
        "\n",
        "pipeline = Pipeline([ (\"scaler\", StandardScaler()), (\"clf\", ensemble) ])\n",
        "scores = cross_val_score(pipeline, X_train, y_train, cv=5, scoring=\"accuracy\")\n",
        "print(\"Cross-validation accuracy:\", np.mean(scores))\n",
        "\n",
        "from sklearn.metrics import precision_score, recall_score, f1_score\n",
        "pipeline.fit(X_train, y_train)\n",
        "\n",
        "y_train_pred = pipeline.predict(X_train)\n",
        "y_test_pred = pipeline.predict(X_test)\n",
        "\n",
        "# Accuracy\n",
        "print(\"Train accuracy:\", pipeline.score(X_train, y_train))\n",
        "print(\"Test accuracy:\", pipeline.score(X_test, y_test))\n",
        "\n",
        "# Precision\n",
        "print(\"Train precision:\", precision_score(y_train, y_train_pred, average='weighted'))\n",
        "print(\"Test precision:\", precision_score(y_test, y_test_pred, average='weighted'))\n",
        "\n",
        "# Recall\n",
        "print(\"Train recall:\", recall_score(y_train, y_train_pred, average='weighted'))\n",
        "print(\"Test recall:\", recall_score(y_test, y_test_pred, average='weighted'))\n",
        "\n",
        "# Optional: F1-score\n",
        "print(\"Train F1-score:\", f1_score(y_train, y_train_pred, average='weighted'))\n",
        "print(\"Test F1-score:\", f1_score(y_test, y_test_pred, average='weighted'))\n"
      ],
      "metadata": {
        "colab": {
          "base_uri": "https://localhost:8080/"
        },
        "id": "swB4tkVj3Xi8",
        "outputId": "d9f90153-56a5-41b0-e675-33986079bf4e"
      },
      "execution_count": null,
      "outputs": [
        {
          "output_type": "stream",
          "name": "stdout",
          "text": [
            "Cross-validation accuracy: 1.0\n",
            "Train accuracy: 1.0\n",
            "Test accuracy: 1.0\n",
            "Train precision: 1.0\n",
            "Test precision: 1.0\n",
            "Train recall: 1.0\n",
            "Test recall: 1.0\n",
            "Train F1-score: 1.0\n",
            "Test F1-score: 1.0\n"
          ]
        }
      ]
    },
    {
      "cell_type": "code",
      "source": [
        "\n",
        "import joblib\n",
        "joblib.dump(pipeline, \"exoplanet_K2_FPandConfirmed_ensemble_model.pkl\")\n",
        "joblib.dump(le, \"label_K2_FPandConfirmed_encoder.pkl\")\n",
        "print(\"✅ Model and encoder saved!\")"
      ],
      "metadata": {
        "colab": {
          "base_uri": "https://localhost:8080/"
        },
        "id": "SyWYug_W028b",
        "outputId": "6a1d9a91-7719-4eb7-a27a-05e055a4f68f"
      },
      "execution_count": null,
      "outputs": [
        {
          "output_type": "stream",
          "name": "stdout",
          "text": [
            "✅ Model and encoder saved!\n"
          ]
        }
      ]
    },
    {
      "cell_type": "code",
      "source": [
        "df_filtered['disposition'].value_counts()\n"
      ],
      "metadata": {
        "colab": {
          "base_uri": "https://localhost:8080/",
          "height": 178
        },
        "id": "uRFGs3ao5Hca",
        "outputId": "f9c76b4a-75d1-42dd-db95-6c6f2228ebab"
      },
      "execution_count": null,
      "outputs": [
        {
          "output_type": "execute_result",
          "data": {
            "text/plain": [
              "disposition\n",
              "CONFIRMED         2315\n",
              "FALSE POSITIVE     293\n",
              "Name: count, dtype: int64"
            ],
            "text/html": [
              "<div>\n",
              "<style scoped>\n",
              "    .dataframe tbody tr th:only-of-type {\n",
              "        vertical-align: middle;\n",
              "    }\n",
              "\n",
              "    .dataframe tbody tr th {\n",
              "        vertical-align: top;\n",
              "    }\n",
              "\n",
              "    .dataframe thead th {\n",
              "        text-align: right;\n",
              "    }\n",
              "</style>\n",
              "<table border=\"1\" class=\"dataframe\">\n",
              "  <thead>\n",
              "    <tr style=\"text-align: right;\">\n",
              "      <th></th>\n",
              "      <th>count</th>\n",
              "    </tr>\n",
              "    <tr>\n",
              "      <th>disposition</th>\n",
              "      <th></th>\n",
              "    </tr>\n",
              "  </thead>\n",
              "  <tbody>\n",
              "    <tr>\n",
              "      <th>CONFIRMED</th>\n",
              "      <td>2315</td>\n",
              "    </tr>\n",
              "    <tr>\n",
              "      <th>FALSE POSITIVE</th>\n",
              "      <td>293</td>\n",
              "    </tr>\n",
              "  </tbody>\n",
              "</table>\n",
              "</div><br><label><b>dtype:</b> int64</label>"
            ]
          },
          "metadata": {},
          "execution_count": 24
        }
      ]
    },
    {
      "cell_type": "code",
      "source": [
        "df_filtered.shape"
      ],
      "metadata": {
        "colab": {
          "base_uri": "https://localhost:8080/"
        },
        "id": "ZBGIDBwCtSe2",
        "outputId": "b3b652b5-2062-40ad-a5ac-3d0bacdb9ca3"
      },
      "execution_count": null,
      "outputs": [
        {
          "output_type": "execute_result",
          "data": {
            "text/plain": [
              "(2608, 75)"
            ]
          },
          "metadata": {},
          "execution_count": 30
        }
      ]
    },
    {
      "cell_type": "code",
      "source": [
        "df_confirmed = df_filtered[df_filtered['disposition'] == 'CONFIRMED']\n",
        "df_false_positive = df_filtered[df_filtered['disposition'] == 'FALSE POSITIVE']\n"
      ],
      "metadata": {
        "id": "Shmt2NG_tSnP"
      },
      "execution_count": null,
      "outputs": []
    },
    {
      "cell_type": "code",
      "source": [
        "nu = df_filtered.isna().sum()\n",
        "\n",
        "for column_name, null_count in nu.items():\n",
        "  if null_count > 0:\n",
        "    print(f\"Column '{column_name}' has {null_count} null values.\")"
      ],
      "metadata": {
        "colab": {
          "base_uri": "https://localhost:8080/"
        },
        "id": "FfZK6REkvQST",
        "outputId": "4701485e-196c-4445-da19-f4eab67e4d20"
      },
      "execution_count": null,
      "outputs": [
        {
          "output_type": "stream",
          "name": "stdout",
          "text": [
            "Column 'pl_orbper' has 24 null values.\n",
            "Column 'pl_rade' has 559 null values.\n",
            "Column 'pl_radj' has 559 null values.\n",
            "Column 'pl_tranmid' has 64 null values.\n",
            "Column 'pl_tsystemref' has 228 null values.\n",
            "Column 'pl_ratror' has 763 null values.\n",
            "Column 'st_refname' has 16 null values.\n",
            "Column 'st_rad' has 93 null values.\n",
            "Column 'sy_pm' has 12 null values.\n",
            "Column 'sy_pmra' has 12 null values.\n",
            "Column 'sy_pmdec' has 12 null values.\n",
            "Column 'sy_dist' has 67 null values.\n",
            "Column 'sy_plx' has 95 null values.\n",
            "Column 'sy_bmag' has 94 null values.\n",
            "Column 'sy_vmag' has 25 null values.\n",
            "Column 'sy_jmag' has 14 null values.\n",
            "Column 'sy_hmag' has 14 null values.\n",
            "Column 'sy_kmag' has 14 null values.\n",
            "Column 'sy_w1mag' has 109 null values.\n",
            "Column 'sy_w2mag' has 109 null values.\n",
            "Column 'sy_w3mag' has 109 null values.\n",
            "Column 'sy_w4mag' has 112 null values.\n",
            "Column 'sy_gaiamag' has 19 null values.\n",
            "Column 'sy_tmag' has 4 null values.\n",
            "Column 'sy_kepmag' has 7 null values.\n",
            "Column 'k2_campaigns' has 6 null values.\n",
            "Column 'k2_campaigns_num' has 4 null values.\n"
          ]
        }
      ]
    },
    {
      "cell_type": "code",
      "source": [
        "df_confirmed=df_confirmed.iloc[:300]"
      ],
      "metadata": {
        "id": "Gy27g3JOvQZS"
      },
      "execution_count": null,
      "outputs": []
    },
    {
      "cell_type": "code",
      "source": [
        "combined_df = pd.concat([df_confirmed, df_false_positive], ignore_index=True, axis=0)"
      ],
      "metadata": {
        "id": "D-Kc0mDEvQhC"
      },
      "execution_count": null,
      "outputs": []
    },
    {
      "cell_type": "code",
      "source": [
        "combined_df.shape\n"
      ],
      "metadata": {
        "colab": {
          "base_uri": "https://localhost:8080/"
        },
        "id": "ZbLWqiHlxwJp",
        "outputId": "df319d7f-043b-4140-9654-82fd4c7df809"
      },
      "execution_count": null,
      "outputs": [
        {
          "output_type": "execute_result",
          "data": {
            "text/plain": [
              "(593, 75)"
            ]
          },
          "metadata": {},
          "execution_count": 46
        }
      ]
    },
    {
      "cell_type": "code",
      "source": [
        "from sklearn.experimental import enable_iterative_imputer\n",
        "from sklearn.impute import IterativeImputer\n",
        "target_col='disposition'\n",
        "X = combined_df.drop(columns=[target_col])\n",
        "y = combined_df[target_col]\n",
        "X = X.select_dtypes(include=[\"int64\", \"float64\"])\n",
        "iter_imputer = IterativeImputer(random_state=42)\n",
        "X_imputed = pd.DataFrame(iter_imputer.fit_transform(X), columns=X.columns)"
      ],
      "metadata": {
        "id": "KhzPBV2jxwRw"
      },
      "execution_count": null,
      "outputs": []
    },
    {
      "cell_type": "code",
      "source": [
        "from sklearn.model_selection import train_test_split\n",
        "from sklearn.ensemble import RandomForestClassifier\n",
        "from sklearn.metrics import classification_report, confusion_matrix\n",
        "import pandas as pd\n",
        "\n",
        "le = LabelEncoder()\n",
        "y_encoded = le.fit_transform(y)\n",
        "\n",
        "X_train, X_test, y_train, y_test = train_test_split(\n",
        "    X_imputed, y_encoded, test_size=0.2, stratify=y, random_state=42\n",
        ")\n",
        "\n",
        "clf = RandomForestClassifier(random_state=42)\n",
        "clf.fit(X_train, y_train)\n",
        "y_pred = clf.predict(X_test)\n",
        "\n",
        "print(\"Normal classification report:\\n\", classification_report(y_test, y_pred))\n",
        "print(\"Confusion matrix:\\n\", confusion_matrix(y_test, y_pred))\n"
      ],
      "metadata": {
        "colab": {
          "base_uri": "https://localhost:8080/"
        },
        "id": "SaHZTdPuxwcX",
        "outputId": "48cb07fe-750e-460c-ba7b-47385a1bf954"
      },
      "execution_count": null,
      "outputs": [
        {
          "output_type": "stream",
          "name": "stdout",
          "text": [
            "Normal classification report:\n",
            "               precision    recall  f1-score   support\n",
            "\n",
            "           0       1.00      1.00      1.00        60\n",
            "           1       1.00      1.00      1.00        59\n",
            "\n",
            "    accuracy                           1.00       119\n",
            "   macro avg       1.00      1.00      1.00       119\n",
            "weighted avg       1.00      1.00      1.00       119\n",
            "\n",
            "Confusion matrix:\n",
            " [[60  0]\n",
            " [ 0 59]]\n"
          ]
        }
      ]
    },
    {
      "cell_type": "code",
      "source": [],
      "metadata": {
        "id": "mC9zUk4Oxwl3"
      },
      "execution_count": null,
      "outputs": []
    },
    {
      "cell_type": "code",
      "source": [],
      "metadata": {
        "id": "Z4_aGT9yxwvI"
      },
      "execution_count": null,
      "outputs": []
    },
    {
      "cell_type": "code",
      "source": [],
      "metadata": {
        "id": "AYTSFg09xw3e"
      },
      "execution_count": null,
      "outputs": []
    },
    {
      "cell_type": "code",
      "source": [],
      "metadata": {
        "id": "80zb7YZcxxA7"
      },
      "execution_count": null,
      "outputs": []
    }
  ]
}